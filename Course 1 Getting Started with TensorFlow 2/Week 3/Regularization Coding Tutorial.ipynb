{
 "cells": [
  {
   "cell_type": "code",
   "execution_count": 1,
   "metadata": {
    "scrolled": true
   },
   "outputs": [
    {
     "name": "stdout",
     "output_type": "stream",
     "text": [
      "2.0.0\n"
     ]
    }
   ],
   "source": [
    "import tensorflow as tf\n",
    "print(tf.__version__)"
   ]
  },
  {
   "cell_type": "markdown",
   "metadata": {},
   "source": [
    "# Validation, regularisation and callbacks"
   ]
  },
  {
   "cell_type": "markdown",
   "metadata": {},
   "source": [
    " ## Coding tutorials\n",
    " #### [1. Validation sets](#coding_tutorial_1)\n",
    " #### [2. Model regularisation](#coding_tutorial_2)\n",
    " #### [3. Introduction to callbacks](#coding_tutorial_3)\n",
    " #### [4. Early stopping / patience](#coding_tutorial_4)"
   ]
  },
  {
   "cell_type": "markdown",
   "metadata": {},
   "source": [
    "***\n",
    "<a id=\"coding_tutorial_1\"></a>\n",
    "## Validation sets"
   ]
  },
  {
   "cell_type": "markdown",
   "metadata": {},
   "source": [
    "#### Load the data"
   ]
  },
  {
   "cell_type": "code",
   "execution_count": 2,
   "metadata": {},
   "outputs": [
    {
     "name": "stdout",
     "output_type": "stream",
     "text": [
      ".. _diabetes_dataset:\n",
      "\n",
      "Diabetes dataset\n",
      "----------------\n",
      "\n",
      "Ten baseline variables, age, sex, body mass index, average blood\n",
      "pressure, and six blood serum measurements were obtained for each of n =\n",
      "442 diabetes patients, as well as the response of interest, a\n",
      "quantitative measure of disease progression one year after baseline.\n",
      "\n",
      "**Data Set Characteristics:**\n",
      "\n",
      "  :Number of Instances: 442\n",
      "\n",
      "  :Number of Attributes: First 10 columns are numeric predictive values\n",
      "\n",
      "  :Target: Column 11 is a quantitative measure of disease progression one year after baseline\n",
      "\n",
      "  :Attribute Information:\n",
      "      - Age\n",
      "      - Sex\n",
      "      - Body mass index\n",
      "      - Average blood pressure\n",
      "      - S1\n",
      "      - S2\n",
      "      - S3\n",
      "      - S4\n",
      "      - S5\n",
      "      - S6\n",
      "\n",
      "Note: Each of these 10 feature variables have been mean centered and scaled by the standard deviation times `n_samples` (i.e. the sum of squares of each column totals 1).\n",
      "\n",
      "Source URL:\n",
      "http://www4.stat.ncsu.edu/~boos/var.select/diabetes.html\n",
      "\n",
      "For more information see:\n",
      "Bradley Efron, Trevor Hastie, Iain Johnstone and Robert Tibshirani (2004) \"Least Angle Regression,\" Annals of Statistics (with discussion), 407-499.\n",
      "(http://web.stanford.edu/~hastie/Papers/LARS/LeastAngle_2002.pdf)\n"
     ]
    }
   ],
   "source": [
    "# Load the diabetes dataset\n",
    "from sklearn.datasets import load_diabetes\n",
    "diabetes_dataset = load_diabetes()\n",
    "print(diabetes_dataset['DESCR'])"
   ]
  },
  {
   "cell_type": "code",
   "execution_count": 3,
   "metadata": {},
   "outputs": [
    {
     "name": "stdout",
     "output_type": "stream",
     "text": [
      "dict_keys(['data', 'target', 'DESCR', 'feature_names', 'data_filename', 'target_filename'])\n"
     ]
    }
   ],
   "source": [
    "# Save the input and target variables\n",
    "print(diabetes_dataset.keys())\n",
    "data = diabetes_dataset['data']\n",
    "targets = diabetes_dataset['target']"
   ]
  },
  {
   "cell_type": "code",
   "execution_count": 4,
   "metadata": {},
   "outputs": [],
   "source": [
    "# Normalise the target data (this will make clearer training curves)\n",
    "targets = (targets - targets.mean(axis = 0))/targets.std()"
   ]
  },
  {
   "cell_type": "code",
   "execution_count": 5,
   "metadata": {},
   "outputs": [],
   "source": [
    "# Split the data into train and test sets\n",
    "from sklearn.model_selection import train_test_split\n",
    "train_data, test_data, train_targets, test_targets = train_test_split(data, targets, test_size = 0.1) "
   ]
  },
  {
   "cell_type": "code",
   "execution_count": 6,
   "metadata": {},
   "outputs": [
    {
     "name": "stdout",
     "output_type": "stream",
     "text": [
      "(397, 10) (45, 10) (397,) (45,)\n"
     ]
    }
   ],
   "source": [
    "print(train_data.shape, test_data.shape, train_targets.shape, test_targets.shape)"
   ]
  },
  {
   "cell_type": "markdown",
   "metadata": {},
   "source": [
    "#### Train a feedforward neural network model"
   ]
  },
  {
   "cell_type": "code",
   "execution_count": 7,
   "metadata": {},
   "outputs": [],
   "source": [
    "# Build the model\n",
    "from tensorflow.keras.models import Sequential\n",
    "from tensorflow.keras.layers import Dense\n",
    "\n",
    "def get_model():\n",
    "    model = Sequential([\n",
    "        Dense(128, activation = 'relu', input_shape = (train_data.shape[1],)),\n",
    "        Dense(128, activation = 'relu'),\n",
    "        Dense(128, activation = 'relu'),\n",
    "        Dense(128, activation = 'relu'),\n",
    "        Dense(128, activation = 'relu'),\n",
    "        Dense(128, activation = 'relu'),\n",
    "        Dense(1)\n",
    "    ])\n",
    "    return model\n",
    "# Instantiate model\n",
    "model = get_model()"
   ]
  },
  {
   "cell_type": "code",
   "execution_count": 8,
   "metadata": {},
   "outputs": [
    {
     "name": "stdout",
     "output_type": "stream",
     "text": [
      "Model: \"sequential\"\n",
      "_________________________________________________________________\n",
      "Layer (type)                 Output Shape              Param #   \n",
      "=================================================================\n",
      "dense (Dense)                (None, 128)               1408      \n",
      "_________________________________________________________________\n",
      "dense_1 (Dense)              (None, 128)               16512     \n",
      "_________________________________________________________________\n",
      "dense_2 (Dense)              (None, 128)               16512     \n",
      "_________________________________________________________________\n",
      "dense_3 (Dense)              (None, 128)               16512     \n",
      "_________________________________________________________________\n",
      "dense_4 (Dense)              (None, 128)               16512     \n",
      "_________________________________________________________________\n",
      "dense_5 (Dense)              (None, 128)               16512     \n",
      "_________________________________________________________________\n",
      "dense_6 (Dense)              (None, 1)                 129       \n",
      "=================================================================\n",
      "Total params: 84,097\n",
      "Trainable params: 84,097\n",
      "Non-trainable params: 0\n",
      "_________________________________________________________________\n"
     ]
    }
   ],
   "source": [
    "# Print the model summary\n",
    "\n",
    "model.summary()"
   ]
  },
  {
   "cell_type": "code",
   "execution_count": 9,
   "metadata": {},
   "outputs": [
    {
     "data": {
      "text/plain": [
       "[<tf.Variable 'dense/kernel:0' shape=(10, 128) dtype=float32, numpy=\n",
       " array([[ 0.19794293, -0.04393658,  0.0953569 , ...,  0.2077155 ,\n",
       "         -0.00313316,  0.13635303],\n",
       "        [ 0.07402231, -0.17599294,  0.09891339, ...,  0.20188852,\n",
       "         -0.14205205, -0.01588154],\n",
       "        [ 0.18266053, -0.01012072, -0.11629916, ..., -0.13888997,\n",
       "          0.08533148, -0.13061595],\n",
       "        ...,\n",
       "        [ 0.14777993,  0.0624444 , -0.1459864 , ..., -0.04025349,\n",
       "          0.10631804, -0.1913945 ],\n",
       "        [ 0.08048157,  0.07424448, -0.14196664, ...,  0.18590929,\n",
       "         -0.05644147,  0.06756242],\n",
       "        [ 0.04875492,  0.15695916,  0.04579143, ..., -0.1876342 ,\n",
       "         -0.19534783, -0.17661402]], dtype=float32)>,\n",
       " <tf.Variable 'dense/bias:0' shape=(128,) dtype=float32, numpy=\n",
       " array([0., 0., 0., 0., 0., 0., 0., 0., 0., 0., 0., 0., 0., 0., 0., 0., 0.,\n",
       "        0., 0., 0., 0., 0., 0., 0., 0., 0., 0., 0., 0., 0., 0., 0., 0., 0.,\n",
       "        0., 0., 0., 0., 0., 0., 0., 0., 0., 0., 0., 0., 0., 0., 0., 0., 0.,\n",
       "        0., 0., 0., 0., 0., 0., 0., 0., 0., 0., 0., 0., 0., 0., 0., 0., 0.,\n",
       "        0., 0., 0., 0., 0., 0., 0., 0., 0., 0., 0., 0., 0., 0., 0., 0., 0.,\n",
       "        0., 0., 0., 0., 0., 0., 0., 0., 0., 0., 0., 0., 0., 0., 0., 0., 0.,\n",
       "        0., 0., 0., 0., 0., 0., 0., 0., 0., 0., 0., 0., 0., 0., 0., 0., 0.,\n",
       "        0., 0., 0., 0., 0., 0., 0., 0., 0.], dtype=float32)>,\n",
       " <tf.Variable 'dense_1/kernel:0' shape=(128, 128) dtype=float32, numpy=\n",
       " array([[ 0.13158236, -0.13659526,  0.10673095, ..., -0.06044294,\n",
       "         -0.10609704, -0.11259978],\n",
       "        [-0.01007144, -0.1009143 , -0.11586586, ..., -0.14710988,\n",
       "          0.03255303,  0.10557877],\n",
       "        [-0.07623422, -0.08461125, -0.13788247, ..., -0.12994568,\n",
       "          0.02887928,  0.13674979],\n",
       "        ...,\n",
       "        [ 0.04644412,  0.13336875, -0.13188407, ...,  0.06598978,\n",
       "          0.1313308 , -0.03180456],\n",
       "        [ 0.12580983,  0.07695816, -0.06993206, ..., -0.08535089,\n",
       "         -0.04732975,  0.12247668],\n",
       "        [-0.0878386 , -0.04725523,  0.1528468 , ..., -0.14417619,\n",
       "          0.09455979, -0.1363428 ]], dtype=float32)>,\n",
       " <tf.Variable 'dense_1/bias:0' shape=(128,) dtype=float32, numpy=\n",
       " array([0., 0., 0., 0., 0., 0., 0., 0., 0., 0., 0., 0., 0., 0., 0., 0., 0.,\n",
       "        0., 0., 0., 0., 0., 0., 0., 0., 0., 0., 0., 0., 0., 0., 0., 0., 0.,\n",
       "        0., 0., 0., 0., 0., 0., 0., 0., 0., 0., 0., 0., 0., 0., 0., 0., 0.,\n",
       "        0., 0., 0., 0., 0., 0., 0., 0., 0., 0., 0., 0., 0., 0., 0., 0., 0.,\n",
       "        0., 0., 0., 0., 0., 0., 0., 0., 0., 0., 0., 0., 0., 0., 0., 0., 0.,\n",
       "        0., 0., 0., 0., 0., 0., 0., 0., 0., 0., 0., 0., 0., 0., 0., 0., 0.,\n",
       "        0., 0., 0., 0., 0., 0., 0., 0., 0., 0., 0., 0., 0., 0., 0., 0., 0.,\n",
       "        0., 0., 0., 0., 0., 0., 0., 0., 0.], dtype=float32)>,\n",
       " <tf.Variable 'dense_2/kernel:0' shape=(128, 128) dtype=float32, numpy=\n",
       " array([[-0.07343188,  0.01880364,  0.00334163, ...,  0.07196629,\n",
       "          0.06142356,  0.07464474],\n",
       "        [-0.11991574, -0.02026322, -0.05702937, ..., -0.07235005,\n",
       "          0.11114521, -0.00989336],\n",
       "        [ 0.03855367, -0.01461966, -0.02617925, ..., -0.02986436,\n",
       "         -0.10868849,  0.02134165],\n",
       "        ...,\n",
       "        [ 0.11908431,  0.02158438, -0.03689386, ...,  0.02826221,\n",
       "          0.096883  , -0.12244704],\n",
       "        [-0.00393297,  0.04277778,  0.03186022, ...,  0.12751035,\n",
       "          0.03257993,  0.00929132],\n",
       "        [ 0.14797439,  0.06506154, -0.00554135, ...,  0.11498062,\n",
       "          0.05276771,  0.0450229 ]], dtype=float32)>,\n",
       " <tf.Variable 'dense_2/bias:0' shape=(128,) dtype=float32, numpy=\n",
       " array([0., 0., 0., 0., 0., 0., 0., 0., 0., 0., 0., 0., 0., 0., 0., 0., 0.,\n",
       "        0., 0., 0., 0., 0., 0., 0., 0., 0., 0., 0., 0., 0., 0., 0., 0., 0.,\n",
       "        0., 0., 0., 0., 0., 0., 0., 0., 0., 0., 0., 0., 0., 0., 0., 0., 0.,\n",
       "        0., 0., 0., 0., 0., 0., 0., 0., 0., 0., 0., 0., 0., 0., 0., 0., 0.,\n",
       "        0., 0., 0., 0., 0., 0., 0., 0., 0., 0., 0., 0., 0., 0., 0., 0., 0.,\n",
       "        0., 0., 0., 0., 0., 0., 0., 0., 0., 0., 0., 0., 0., 0., 0., 0., 0.,\n",
       "        0., 0., 0., 0., 0., 0., 0., 0., 0., 0., 0., 0., 0., 0., 0., 0., 0.,\n",
       "        0., 0., 0., 0., 0., 0., 0., 0., 0.], dtype=float32)>,\n",
       " <tf.Variable 'dense_3/kernel:0' shape=(128, 128) dtype=float32, numpy=\n",
       " array([[-0.14992793, -0.00755475,  0.11000924, ...,  0.07103834,\n",
       "         -0.03869792, -0.04324359],\n",
       "        [-0.04600637, -0.05509602, -0.01525031, ...,  0.10532244,\n",
       "         -0.14951909, -0.10670485],\n",
       "        [-0.15260988, -0.14526717, -0.03402746, ..., -0.05064398,\n",
       "         -0.13491888,  0.14042176],\n",
       "        ...,\n",
       "        [ 0.11830582, -0.05893982, -0.00277832, ...,  0.07974088,\n",
       "         -0.06429186,  0.04994741],\n",
       "        [ 0.11214162,  0.14047964, -0.01026383, ...,  0.01450837,\n",
       "          0.01135136, -0.12194994],\n",
       "        [ 0.07209572,  0.1425841 , -0.09391665, ...,  0.15181725,\n",
       "          0.1480018 , -0.1472173 ]], dtype=float32)>,\n",
       " <tf.Variable 'dense_3/bias:0' shape=(128,) dtype=float32, numpy=\n",
       " array([0., 0., 0., 0., 0., 0., 0., 0., 0., 0., 0., 0., 0., 0., 0., 0., 0.,\n",
       "        0., 0., 0., 0., 0., 0., 0., 0., 0., 0., 0., 0., 0., 0., 0., 0., 0.,\n",
       "        0., 0., 0., 0., 0., 0., 0., 0., 0., 0., 0., 0., 0., 0., 0., 0., 0.,\n",
       "        0., 0., 0., 0., 0., 0., 0., 0., 0., 0., 0., 0., 0., 0., 0., 0., 0.,\n",
       "        0., 0., 0., 0., 0., 0., 0., 0., 0., 0., 0., 0., 0., 0., 0., 0., 0.,\n",
       "        0., 0., 0., 0., 0., 0., 0., 0., 0., 0., 0., 0., 0., 0., 0., 0., 0.,\n",
       "        0., 0., 0., 0., 0., 0., 0., 0., 0., 0., 0., 0., 0., 0., 0., 0., 0.,\n",
       "        0., 0., 0., 0., 0., 0., 0., 0., 0.], dtype=float32)>,\n",
       " <tf.Variable 'dense_4/kernel:0' shape=(128, 128) dtype=float32, numpy=\n",
       " array([[ 0.09162708, -0.09164214, -0.05209574, ...,  0.11025138,\n",
       "          0.08197644, -0.0735058 ],\n",
       "        [ 0.02131797,  0.02070695, -0.10732214, ...,  0.11192508,\n",
       "         -0.06244823,  0.0940271 ],\n",
       "        [ 0.06954037, -0.1260306 , -0.10489732, ..., -0.14239775,\n",
       "         -0.13755415,  0.02588229],\n",
       "        ...,\n",
       "        [ 0.13751538, -0.10699032, -0.05450775, ...,  0.10101707,\n",
       "          0.06781636,  0.13106956],\n",
       "        [ 0.11041309,  0.14419575, -0.06005633, ..., -0.05745295,\n",
       "          0.0426935 , -0.06403588],\n",
       "        [-0.13923992, -0.0432618 ,  0.07045759, ..., -0.0842638 ,\n",
       "          0.09603681,  0.08740626]], dtype=float32)>,\n",
       " <tf.Variable 'dense_4/bias:0' shape=(128,) dtype=float32, numpy=\n",
       " array([0., 0., 0., 0., 0., 0., 0., 0., 0., 0., 0., 0., 0., 0., 0., 0., 0.,\n",
       "        0., 0., 0., 0., 0., 0., 0., 0., 0., 0., 0., 0., 0., 0., 0., 0., 0.,\n",
       "        0., 0., 0., 0., 0., 0., 0., 0., 0., 0., 0., 0., 0., 0., 0., 0., 0.,\n",
       "        0., 0., 0., 0., 0., 0., 0., 0., 0., 0., 0., 0., 0., 0., 0., 0., 0.,\n",
       "        0., 0., 0., 0., 0., 0., 0., 0., 0., 0., 0., 0., 0., 0., 0., 0., 0.,\n",
       "        0., 0., 0., 0., 0., 0., 0., 0., 0., 0., 0., 0., 0., 0., 0., 0., 0.,\n",
       "        0., 0., 0., 0., 0., 0., 0., 0., 0., 0., 0., 0., 0., 0., 0., 0., 0.,\n",
       "        0., 0., 0., 0., 0., 0., 0., 0., 0.], dtype=float32)>,\n",
       " <tf.Variable 'dense_5/kernel:0' shape=(128, 128) dtype=float32, numpy=\n",
       " array([[ 0.10031588, -0.14769422, -0.13180691, ...,  0.0326663 ,\n",
       "          0.00835589, -0.1143788 ],\n",
       "        [-0.06833123,  0.11648725, -0.04687919, ...,  0.11176826,\n",
       "         -0.1334919 , -0.0819928 ],\n",
       "        [ 0.10690702, -0.1311667 ,  0.13619013, ...,  0.08851856,\n",
       "          0.0367963 ,  0.03316456],\n",
       "        ...,\n",
       "        [ 0.09230192, -0.03621875, -0.049219  , ...,  0.02728945,\n",
       "          0.04603374, -0.04395469],\n",
       "        [-0.12408936,  0.07934818,  0.12831523, ...,  0.04789343,\n",
       "          0.02815136,  0.0203115 ],\n",
       "        [ 0.12950878, -0.01498953,  0.04564811, ...,  0.05309723,\n",
       "         -0.00418271,  0.15108134]], dtype=float32)>,\n",
       " <tf.Variable 'dense_5/bias:0' shape=(128,) dtype=float32, numpy=\n",
       " array([0., 0., 0., 0., 0., 0., 0., 0., 0., 0., 0., 0., 0., 0., 0., 0., 0.,\n",
       "        0., 0., 0., 0., 0., 0., 0., 0., 0., 0., 0., 0., 0., 0., 0., 0., 0.,\n",
       "        0., 0., 0., 0., 0., 0., 0., 0., 0., 0., 0., 0., 0., 0., 0., 0., 0.,\n",
       "        0., 0., 0., 0., 0., 0., 0., 0., 0., 0., 0., 0., 0., 0., 0., 0., 0.,\n",
       "        0., 0., 0., 0., 0., 0., 0., 0., 0., 0., 0., 0., 0., 0., 0., 0., 0.,\n",
       "        0., 0., 0., 0., 0., 0., 0., 0., 0., 0., 0., 0., 0., 0., 0., 0., 0.,\n",
       "        0., 0., 0., 0., 0., 0., 0., 0., 0., 0., 0., 0., 0., 0., 0., 0., 0.,\n",
       "        0., 0., 0., 0., 0., 0., 0., 0., 0.], dtype=float32)>,\n",
       " <tf.Variable 'dense_6/kernel:0' shape=(128, 1) dtype=float32, numpy=\n",
       " array([[-0.16793585],\n",
       "        [-0.13673125],\n",
       "        [ 0.06791657],\n",
       "        [ 0.16902846],\n",
       "        [-0.14188772],\n",
       "        [ 0.18000928],\n",
       "        [-0.04627188],\n",
       "        [ 0.17784712],\n",
       "        [-0.19051595],\n",
       "        [ 0.09376889],\n",
       "        [ 0.0589872 ],\n",
       "        [ 0.17349204],\n",
       "        [-0.00809716],\n",
       "        [-0.0530286 ],\n",
       "        [-0.01778628],\n",
       "        [ 0.16620463],\n",
       "        [-0.07394668],\n",
       "        [ 0.03917697],\n",
       "        [-0.07052344],\n",
       "        [ 0.09848547],\n",
       "        [ 0.2042284 ],\n",
       "        [ 0.10667226],\n",
       "        [ 0.20252398],\n",
       "        [-0.1517776 ],\n",
       "        [ 0.10396716],\n",
       "        [-0.180471  ],\n",
       "        [-0.21442862],\n",
       "        [ 0.04279125],\n",
       "        [ 0.12777206],\n",
       "        [-0.06788972],\n",
       "        [-0.03120522],\n",
       "        [ 0.09402594],\n",
       "        [ 0.14723098],\n",
       "        [-0.09803253],\n",
       "        [ 0.12454343],\n",
       "        [ 0.12717617],\n",
       "        [ 0.10589707],\n",
       "        [ 0.04397449],\n",
       "        [ 0.07632384],\n",
       "        [ 0.0378314 ],\n",
       "        [ 0.19696113],\n",
       "        [ 0.01855572],\n",
       "        [-0.1768555 ],\n",
       "        [-0.13592371],\n",
       "        [-0.08753397],\n",
       "        [ 0.02110726],\n",
       "        [ 0.1350533 ],\n",
       "        [-0.16994648],\n",
       "        [ 0.09833884],\n",
       "        [ 0.15813217],\n",
       "        [ 0.1675441 ],\n",
       "        [-0.00732325],\n",
       "        [-0.11947108],\n",
       "        [ 0.19945437],\n",
       "        [-0.12291742],\n",
       "        [-0.08351092],\n",
       "        [ 0.12403345],\n",
       "        [-0.17493933],\n",
       "        [-0.20056383],\n",
       "        [-0.08258282],\n",
       "        [ 0.01108757],\n",
       "        [-0.06766054],\n",
       "        [-0.08229189],\n",
       "        [ 0.14537212],\n",
       "        [ 0.04641095],\n",
       "        [-0.03361702],\n",
       "        [ 0.05562678],\n",
       "        [ 0.11046046],\n",
       "        [ 0.00723569],\n",
       "        [ 0.03879026],\n",
       "        [ 0.13777375],\n",
       "        [-0.06579193],\n",
       "        [ 0.08551788],\n",
       "        [-0.1184169 ],\n",
       "        [ 0.01218201],\n",
       "        [-0.15649983],\n",
       "        [-0.02785107],\n",
       "        [ 0.10226995],\n",
       "        [ 0.10267323],\n",
       "        [-0.18776578],\n",
       "        [ 0.18310857],\n",
       "        [-0.20279586],\n",
       "        [ 0.1341157 ],\n",
       "        [-0.10675098],\n",
       "        [-0.17758149],\n",
       "        [-0.17534252],\n",
       "        [ 0.2010535 ],\n",
       "        [-0.02114506],\n",
       "        [-0.12287007],\n",
       "        [ 0.14645576],\n",
       "        [ 0.09850132],\n",
       "        [-0.15742049],\n",
       "        [ 0.12082109],\n",
       "        [ 0.00313392],\n",
       "        [-0.05941617],\n",
       "        [ 0.11440197],\n",
       "        [ 0.13630596],\n",
       "        [-0.19513386],\n",
       "        [-0.19000876],\n",
       "        [ 0.17808425],\n",
       "        [-0.21222512],\n",
       "        [ 0.1163508 ],\n",
       "        [ 0.04228085],\n",
       "        [ 0.18294472],\n",
       "        [ 0.07988214],\n",
       "        [-0.15022027],\n",
       "        [-0.20404714],\n",
       "        [ 0.04552543],\n",
       "        [-0.02905521],\n",
       "        [-0.02337714],\n",
       "        [-0.13745904],\n",
       "        [ 0.20141914],\n",
       "        [ 0.18870622],\n",
       "        [-0.0138271 ],\n",
       "        [ 0.15445054],\n",
       "        [ 0.10877219],\n",
       "        [-0.17223276],\n",
       "        [ 0.1951114 ],\n",
       "        [ 0.03390768],\n",
       "        [ 0.15585256],\n",
       "        [ 0.10671401],\n",
       "        [ 0.19761321],\n",
       "        [ 0.21540189],\n",
       "        [-0.03424062],\n",
       "        [ 0.10281679],\n",
       "        [ 0.08567119],\n",
       "        [ 0.19863832],\n",
       "        [ 0.00240716]], dtype=float32)>,\n",
       " <tf.Variable 'dense_6/bias:0' shape=(1,) dtype=float32, numpy=array([0.], dtype=float32)>]"
      ]
     },
     "execution_count": 9,
     "metadata": {},
     "output_type": "execute_result"
    }
   ],
   "source": [
    "model.weights"
   ]
  },
  {
   "cell_type": "code",
   "execution_count": 10,
   "metadata": {},
   "outputs": [],
   "source": [
    "# Compile the model\n",
    "\n",
    "model.compile(optimizer = 'adam', loss = 'mse', metrics = ['mae'])"
   ]
  },
  {
   "cell_type": "code",
   "execution_count": 11,
   "metadata": {},
   "outputs": [
    {
     "name": "stdout",
     "output_type": "stream",
     "text": [
      "Train on 337 samples, validate on 60 samples\n",
      "Epoch 1/200\n",
      "337/337 - 2s - loss: 1.0354 - mae: 0.8770 - val_loss: 0.7043 - val_mae: 0.7204\n",
      "Epoch 2/200\n",
      "337/337 - 0s - loss: 0.9483 - mae: 0.8389 - val_loss: 0.6059 - val_mae: 0.6718\n",
      "Epoch 3/200\n",
      "337/337 - 0s - loss: 0.7282 - mae: 0.7333 - val_loss: 0.5255 - val_mae: 0.5965\n",
      "Epoch 4/200\n",
      "337/337 - 0s - loss: 0.6013 - mae: 0.6267 - val_loss: 0.5431 - val_mae: 0.5869\n",
      "Epoch 5/200\n",
      "337/337 - 0s - loss: 0.5278 - mae: 0.5831 - val_loss: 0.6155 - val_mae: 0.6393\n",
      "Epoch 6/200\n",
      "337/337 - 0s - loss: 0.5210 - mae: 0.5858 - val_loss: 0.4787 - val_mae: 0.5333\n",
      "Epoch 7/200\n",
      "337/337 - 0s - loss: 0.5092 - mae: 0.5799 - val_loss: 0.5821 - val_mae: 0.6067\n",
      "Epoch 8/200\n",
      "337/337 - 0s - loss: 0.4918 - mae: 0.5635 - val_loss: 0.5129 - val_mae: 0.5523\n",
      "Epoch 9/200\n",
      "337/337 - 0s - loss: 0.4819 - mae: 0.5571 - val_loss: 0.4790 - val_mae: 0.5330\n",
      "Epoch 10/200\n",
      "337/337 - 0s - loss: 0.4665 - mae: 0.5497 - val_loss: 0.5274 - val_mae: 0.5706\n",
      "Epoch 11/200\n",
      "337/337 - 0s - loss: 0.4488 - mae: 0.5384 - val_loss: 0.4585 - val_mae: 0.5175\n",
      "Epoch 12/200\n",
      "337/337 - 0s - loss: 0.4677 - mae: 0.5471 - val_loss: 0.5964 - val_mae: 0.6239\n",
      "Epoch 13/200\n",
      "337/337 - 0s - loss: 0.4687 - mae: 0.5491 - val_loss: 0.4793 - val_mae: 0.5048\n",
      "Epoch 14/200\n",
      "337/337 - 0s - loss: 0.4631 - mae: 0.5354 - val_loss: 0.6212 - val_mae: 0.6363\n",
      "Epoch 15/200\n",
      "337/337 - 0s - loss: 0.4962 - mae: 0.5639 - val_loss: 0.4741 - val_mae: 0.5284\n",
      "Epoch 16/200\n",
      "337/337 - 0s - loss: 0.4482 - mae: 0.5338 - val_loss: 0.5490 - val_mae: 0.5776\n",
      "Epoch 17/200\n",
      "337/337 - 0s - loss: 0.4237 - mae: 0.5152 - val_loss: 0.5133 - val_mae: 0.5526\n",
      "Epoch 18/200\n",
      "337/337 - 0s - loss: 0.4144 - mae: 0.5119 - val_loss: 0.5229 - val_mae: 0.5652\n",
      "Epoch 19/200\n",
      "337/337 - 0s - loss: 0.4062 - mae: 0.5058 - val_loss: 0.5309 - val_mae: 0.5619\n",
      "Epoch 20/200\n",
      "337/337 - 0s - loss: 0.4034 - mae: 0.4961 - val_loss: 0.4999 - val_mae: 0.5237\n",
      "Epoch 21/200\n",
      "337/337 - 0s - loss: 0.4031 - mae: 0.5026 - val_loss: 0.4983 - val_mae: 0.5451\n",
      "Epoch 22/200\n",
      "337/337 - 0s - loss: 0.3863 - mae: 0.4932 - val_loss: 0.5378 - val_mae: 0.5672\n",
      "Epoch 23/200\n",
      "337/337 - 0s - loss: 0.3847 - mae: 0.4862 - val_loss: 0.4825 - val_mae: 0.5232\n",
      "Epoch 24/200\n",
      "337/337 - 0s - loss: 0.3749 - mae: 0.4872 - val_loss: 0.5089 - val_mae: 0.5537\n",
      "Epoch 25/200\n",
      "337/337 - 0s - loss: 0.3713 - mae: 0.4766 - val_loss: 0.6008 - val_mae: 0.6046\n",
      "Epoch 26/200\n",
      "337/337 - 0s - loss: 0.3624 - mae: 0.4650 - val_loss: 0.4704 - val_mae: 0.5192\n",
      "Epoch 27/200\n",
      "337/337 - 0s - loss: 0.3669 - mae: 0.4799 - val_loss: 0.4709 - val_mae: 0.5053\n",
      "Epoch 28/200\n",
      "337/337 - 0s - loss: 0.3771 - mae: 0.4791 - val_loss: 0.6772 - val_mae: 0.6420\n",
      "Epoch 29/200\n",
      "337/337 - 0s - loss: 0.3731 - mae: 0.4790 - val_loss: 0.5162 - val_mae: 0.5317\n",
      "Epoch 30/200\n",
      "337/337 - 0s - loss: 0.3630 - mae: 0.4731 - val_loss: 0.5293 - val_mae: 0.5497\n",
      "Epoch 31/200\n",
      "337/337 - 0s - loss: 0.3487 - mae: 0.4620 - val_loss: 0.5728 - val_mae: 0.5826\n",
      "Epoch 32/200\n",
      "337/337 - 0s - loss: 0.3310 - mae: 0.4482 - val_loss: 0.5033 - val_mae: 0.5360\n",
      "Epoch 33/200\n",
      "337/337 - 0s - loss: 0.3241 - mae: 0.4455 - val_loss: 0.5684 - val_mae: 0.5769\n",
      "Epoch 34/200\n",
      "337/337 - 0s - loss: 0.3051 - mae: 0.4313 - val_loss: 0.5200 - val_mae: 0.5448\n",
      "Epoch 35/200\n",
      "337/337 - 0s - loss: 0.3189 - mae: 0.4425 - val_loss: 0.5183 - val_mae: 0.5418\n",
      "Epoch 36/200\n",
      "337/337 - 0s - loss: 0.3275 - mae: 0.4446 - val_loss: 0.9717 - val_mae: 0.8120\n",
      "Epoch 37/200\n",
      "337/337 - 0s - loss: 0.3932 - mae: 0.4947 - val_loss: 0.5451 - val_mae: 0.5463\n",
      "Epoch 38/200\n",
      "337/337 - 0s - loss: 0.3837 - mae: 0.4876 - val_loss: 0.5691 - val_mae: 0.5675\n",
      "Epoch 39/200\n",
      "337/337 - 0s - loss: 0.3391 - mae: 0.4578 - val_loss: 0.5604 - val_mae: 0.5730\n",
      "Epoch 40/200\n",
      "337/337 - 0s - loss: 0.3172 - mae: 0.4392 - val_loss: 0.6595 - val_mae: 0.6064\n",
      "Epoch 41/200\n",
      "337/337 - 0s - loss: 0.2844 - mae: 0.4093 - val_loss: 0.6006 - val_mae: 0.5831\n",
      "Epoch 42/200\n",
      "337/337 - 0s - loss: 0.2673 - mae: 0.4034 - val_loss: 0.5917 - val_mae: 0.5803\n",
      "Epoch 43/200\n",
      "337/337 - 0s - loss: 0.2600 - mae: 0.3927 - val_loss: 0.6017 - val_mae: 0.5777\n",
      "Epoch 44/200\n",
      "337/337 - 0s - loss: 0.2447 - mae: 0.3821 - val_loss: 0.6829 - val_mae: 0.6321\n",
      "Epoch 45/200\n",
      "337/337 - 0s - loss: 0.2544 - mae: 0.3939 - val_loss: 0.6598 - val_mae: 0.6060\n",
      "Epoch 46/200\n",
      "337/337 - 0s - loss: 0.2706 - mae: 0.4106 - val_loss: 0.6030 - val_mae: 0.5979\n",
      "Epoch 47/200\n",
      "337/337 - 0s - loss: 0.2477 - mae: 0.3872 - val_loss: 0.6229 - val_mae: 0.6228\n",
      "Epoch 48/200\n",
      "337/337 - 0s - loss: 0.2468 - mae: 0.3888 - val_loss: 0.8105 - val_mae: 0.6746\n",
      "Epoch 49/200\n",
      "337/337 - 0s - loss: 0.2854 - mae: 0.4127 - val_loss: 0.7289 - val_mae: 0.6476\n",
      "Epoch 50/200\n",
      "337/337 - 0s - loss: 0.2680 - mae: 0.4001 - val_loss: 0.6365 - val_mae: 0.6068\n",
      "Epoch 51/200\n",
      "337/337 - 0s - loss: 0.2260 - mae: 0.3676 - val_loss: 0.7093 - val_mae: 0.6394\n",
      "Epoch 52/200\n",
      "337/337 - 0s - loss: 0.2155 - mae: 0.3614 - val_loss: 0.6590 - val_mae: 0.6168\n",
      "Epoch 53/200\n",
      "337/337 - 0s - loss: 0.2061 - mae: 0.3561 - val_loss: 0.6942 - val_mae: 0.6216\n",
      "Epoch 54/200\n",
      "337/337 - 0s - loss: 0.1891 - mae: 0.3329 - val_loss: 0.7000 - val_mae: 0.6361\n",
      "Epoch 55/200\n",
      "337/337 - 0s - loss: 0.1751 - mae: 0.3240 - val_loss: 0.6639 - val_mae: 0.6250\n",
      "Epoch 56/200\n",
      "337/337 - 0s - loss: 0.1868 - mae: 0.3387 - val_loss: 0.7307 - val_mae: 0.6571\n",
      "Epoch 57/200\n",
      "337/337 - 0s - loss: 0.1975 - mae: 0.3404 - val_loss: 0.7198 - val_mae: 0.6385\n",
      "Epoch 58/200\n",
      "337/337 - 0s - loss: 0.2022 - mae: 0.3503 - val_loss: 0.8423 - val_mae: 0.6778\n",
      "Epoch 59/200\n",
      "337/337 - 0s - loss: 0.2009 - mae: 0.3513 - val_loss: 0.7968 - val_mae: 0.6927\n",
      "Epoch 60/200\n",
      "337/337 - 0s - loss: 0.2070 - mae: 0.3514 - val_loss: 0.6745 - val_mae: 0.6101\n",
      "Epoch 61/200\n",
      "337/337 - 0s - loss: 0.2350 - mae: 0.3857 - val_loss: 0.7220 - val_mae: 0.6326\n",
      "Epoch 62/200\n",
      "337/337 - 0s - loss: 0.1848 - mae: 0.3375 - val_loss: 0.9636 - val_mae: 0.7639\n",
      "Epoch 63/200\n",
      "337/337 - 0s - loss: 0.1899 - mae: 0.3347 - val_loss: 0.7151 - val_mae: 0.6403\n",
      "Epoch 64/200\n",
      "337/337 - 0s - loss: 0.1590 - mae: 0.3151 - val_loss: 0.6605 - val_mae: 0.6267\n",
      "Epoch 65/200\n",
      "337/337 - 0s - loss: 0.1303 - mae: 0.2736 - val_loss: 0.8148 - val_mae: 0.6900\n",
      "Epoch 66/200\n",
      "337/337 - 0s - loss: 0.1178 - mae: 0.2609 - val_loss: 0.6903 - val_mae: 0.6379\n",
      "Epoch 67/200\n",
      "337/337 - 0s - loss: 0.1065 - mae: 0.2465 - val_loss: 0.7896 - val_mae: 0.6911\n",
      "Epoch 68/200\n",
      "337/337 - 0s - loss: 0.1056 - mae: 0.2418 - val_loss: 0.7542 - val_mae: 0.6737\n",
      "Epoch 69/200\n",
      "337/337 - 0s - loss: 0.0954 - mae: 0.2336 - val_loss: 0.7400 - val_mae: 0.6654\n",
      "Epoch 70/200\n",
      "337/337 - 0s - loss: 0.0880 - mae: 0.2160 - val_loss: 0.7813 - val_mae: 0.6951\n",
      "Epoch 71/200\n",
      "337/337 - 0s - loss: 0.1115 - mae: 0.2539 - val_loss: 0.7313 - val_mae: 0.6649\n",
      "Epoch 72/200\n",
      "337/337 - 0s - loss: 0.0890 - mae: 0.2277 - val_loss: 0.7949 - val_mae: 0.6794\n",
      "Epoch 73/200\n",
      "337/337 - 0s - loss: 0.0999 - mae: 0.2401 - val_loss: 0.8077 - val_mae: 0.6940\n",
      "Epoch 74/200\n",
      "337/337 - 0s - loss: 0.0888 - mae: 0.2252 - val_loss: 0.8938 - val_mae: 0.7398\n",
      "Epoch 75/200\n",
      "337/337 - 0s - loss: 0.0858 - mae: 0.2164 - val_loss: 0.8327 - val_mae: 0.6985\n",
      "Epoch 76/200\n",
      "337/337 - 0s - loss: 0.0751 - mae: 0.1983 - val_loss: 0.7734 - val_mae: 0.6925\n",
      "Epoch 77/200\n",
      "337/337 - 0s - loss: 0.0751 - mae: 0.2102 - val_loss: 0.8217 - val_mae: 0.6989\n",
      "Epoch 78/200\n",
      "337/337 - 0s - loss: 0.0671 - mae: 0.1868 - val_loss: 0.8223 - val_mae: 0.7156\n",
      "Epoch 79/200\n",
      "337/337 - 0s - loss: 0.0680 - mae: 0.1891 - val_loss: 0.7369 - val_mae: 0.6833\n",
      "Epoch 80/200\n",
      "337/337 - 0s - loss: 0.0593 - mae: 0.1781 - val_loss: 0.7483 - val_mae: 0.6843\n",
      "Epoch 81/200\n",
      "337/337 - 0s - loss: 0.0781 - mae: 0.2089 - val_loss: 0.7660 - val_mae: 0.6893\n",
      "Epoch 82/200\n",
      "337/337 - 0s - loss: 0.0719 - mae: 0.1979 - val_loss: 0.8195 - val_mae: 0.7118\n",
      "Epoch 83/200\n",
      "337/337 - 0s - loss: 0.0570 - mae: 0.1773 - val_loss: 0.8081 - val_mae: 0.7167\n",
      "Epoch 84/200\n",
      "337/337 - 0s - loss: 0.0639 - mae: 0.1882 - val_loss: 0.9497 - val_mae: 0.7521\n",
      "Epoch 85/200\n",
      "337/337 - 0s - loss: 0.0722 - mae: 0.2030 - val_loss: 0.8496 - val_mae: 0.7381\n",
      "Epoch 86/200\n",
      "337/337 - 0s - loss: 0.0658 - mae: 0.1966 - val_loss: 0.7283 - val_mae: 0.6883\n",
      "Epoch 87/200\n",
      "337/337 - 0s - loss: 0.0628 - mae: 0.1919 - val_loss: 0.8054 - val_mae: 0.6989\n",
      "Epoch 88/200\n",
      "337/337 - 0s - loss: 0.0747 - mae: 0.2045 - val_loss: 0.7756 - val_mae: 0.6860\n",
      "Epoch 89/200\n",
      "337/337 - 0s - loss: 0.0690 - mae: 0.2001 - val_loss: 0.8225 - val_mae: 0.7195\n",
      "Epoch 90/200\n",
      "337/337 - 0s - loss: 0.0592 - mae: 0.1815 - val_loss: 0.7660 - val_mae: 0.7026\n",
      "Epoch 91/200\n",
      "337/337 - 0s - loss: 0.0611 - mae: 0.1774 - val_loss: 0.8409 - val_mae: 0.7334\n",
      "Epoch 92/200\n",
      "337/337 - 0s - loss: 0.0472 - mae: 0.1548 - val_loss: 0.8429 - val_mae: 0.7394\n",
      "Epoch 93/200\n",
      "337/337 - 0s - loss: 0.0455 - mae: 0.1479 - val_loss: 0.7641 - val_mae: 0.6980\n",
      "Epoch 94/200\n",
      "337/337 - 0s - loss: 0.0413 - mae: 0.1447 - val_loss: 0.7262 - val_mae: 0.6821\n",
      "Epoch 95/200\n",
      "337/337 - 0s - loss: 0.0419 - mae: 0.1497 - val_loss: 0.7881 - val_mae: 0.7108\n",
      "Epoch 96/200\n",
      "337/337 - 0s - loss: 0.0433 - mae: 0.1518 - val_loss: 0.8723 - val_mae: 0.7531\n",
      "Epoch 97/200\n",
      "337/337 - 0s - loss: 0.0446 - mae: 0.1500 - val_loss: 0.7607 - val_mae: 0.6927\n",
      "Epoch 98/200\n",
      "337/337 - 0s - loss: 0.0326 - mae: 0.1220 - val_loss: 0.8623 - val_mae: 0.7291\n",
      "Epoch 99/200\n",
      "337/337 - 0s - loss: 0.0384 - mae: 0.1413 - val_loss: 0.8359 - val_mae: 0.7290\n",
      "Epoch 100/200\n",
      "337/337 - 0s - loss: 0.0299 - mae: 0.1207 - val_loss: 0.8164 - val_mae: 0.7205\n",
      "Epoch 101/200\n",
      "337/337 - 0s - loss: 0.0303 - mae: 0.1224 - val_loss: 0.9122 - val_mae: 0.7606\n",
      "Epoch 102/200\n",
      "337/337 - 0s - loss: 0.0330 - mae: 0.1322 - val_loss: 0.8338 - val_mae: 0.7313\n",
      "Epoch 103/200\n",
      "337/337 - 0s - loss: 0.0299 - mae: 0.1206 - val_loss: 0.7948 - val_mae: 0.7268\n",
      "Epoch 104/200\n",
      "337/337 - 0s - loss: 0.0388 - mae: 0.1420 - val_loss: 0.7858 - val_mae: 0.7074\n",
      "Epoch 105/200\n",
      "337/337 - 0s - loss: 0.0292 - mae: 0.1201 - val_loss: 0.7826 - val_mae: 0.7081\n",
      "Epoch 106/200\n",
      "337/337 - 0s - loss: 0.0297 - mae: 0.1188 - val_loss: 0.8471 - val_mae: 0.7422\n",
      "Epoch 107/200\n",
      "337/337 - 0s - loss: 0.0307 - mae: 0.1258 - val_loss: 0.8553 - val_mae: 0.7247\n",
      "Epoch 108/200\n",
      "337/337 - 0s - loss: 0.0372 - mae: 0.1426 - val_loss: 0.8264 - val_mae: 0.7225\n",
      "Epoch 109/200\n",
      "337/337 - 0s - loss: 0.0308 - mae: 0.1252 - val_loss: 0.7781 - val_mae: 0.7094\n",
      "Epoch 110/200\n",
      "337/337 - 0s - loss: 0.0279 - mae: 0.1187 - val_loss: 0.8005 - val_mae: 0.7168\n",
      "Epoch 111/200\n",
      "337/337 - 0s - loss: 0.0278 - mae: 0.1158 - val_loss: 0.7799 - val_mae: 0.7033\n",
      "Epoch 112/200\n",
      "337/337 - 0s - loss: 0.0254 - mae: 0.1082 - val_loss: 0.8714 - val_mae: 0.7489\n",
      "Epoch 113/200\n",
      "337/337 - 0s - loss: 0.0278 - mae: 0.1197 - val_loss: 0.7929 - val_mae: 0.7057\n",
      "Epoch 114/200\n",
      "337/337 - 0s - loss: 0.0247 - mae: 0.1090 - val_loss: 0.7702 - val_mae: 0.6996\n",
      "Epoch 115/200\n",
      "337/337 - 0s - loss: 0.0265 - mae: 0.1112 - val_loss: 0.8706 - val_mae: 0.7422\n",
      "Epoch 116/200\n",
      "337/337 - 0s - loss: 0.0256 - mae: 0.1163 - val_loss: 0.8300 - val_mae: 0.7261\n",
      "Epoch 117/200\n",
      "337/337 - 0s - loss: 0.0199 - mae: 0.0910 - val_loss: 0.8636 - val_mae: 0.7296\n",
      "Epoch 118/200\n",
      "337/337 - 0s - loss: 0.0213 - mae: 0.1018 - val_loss: 0.8331 - val_mae: 0.7317\n",
      "Epoch 119/200\n",
      "337/337 - 0s - loss: 0.0226 - mae: 0.1023 - val_loss: 0.7880 - val_mae: 0.7247\n",
      "Epoch 120/200\n",
      "337/337 - 0s - loss: 0.0189 - mae: 0.0907 - val_loss: 0.8334 - val_mae: 0.7383\n",
      "Epoch 121/200\n",
      "337/337 - 0s - loss: 0.0188 - mae: 0.0900 - val_loss: 0.8884 - val_mae: 0.7568\n",
      "Epoch 122/200\n",
      "337/337 - 0s - loss: 0.0241 - mae: 0.1089 - val_loss: 0.8570 - val_mae: 0.7391\n",
      "Epoch 123/200\n",
      "337/337 - 0s - loss: 0.0319 - mae: 0.1326 - val_loss: 0.8738 - val_mae: 0.7422\n",
      "Epoch 124/200\n",
      "337/337 - 0s - loss: 0.0329 - mae: 0.1322 - val_loss: 0.7501 - val_mae: 0.6914\n",
      "Epoch 125/200\n",
      "337/337 - 0s - loss: 0.0275 - mae: 0.1181 - val_loss: 0.7889 - val_mae: 0.7152\n",
      "Epoch 126/200\n",
      "337/337 - 0s - loss: 0.0242 - mae: 0.1117 - val_loss: 0.7844 - val_mae: 0.7050\n",
      "Epoch 127/200\n",
      "337/337 - 0s - loss: 0.0254 - mae: 0.1162 - val_loss: 0.8154 - val_mae: 0.7240\n",
      "Epoch 128/200\n",
      "337/337 - 0s - loss: 0.0208 - mae: 0.1034 - val_loss: 0.8706 - val_mae: 0.7392\n",
      "Epoch 129/200\n",
      "337/337 - 0s - loss: 0.0218 - mae: 0.1043 - val_loss: 0.8528 - val_mae: 0.7407\n",
      "Epoch 130/200\n",
      "337/337 - 0s - loss: 0.0180 - mae: 0.0913 - val_loss: 0.8147 - val_mae: 0.7300\n",
      "Epoch 131/200\n",
      "337/337 - 0s - loss: 0.0174 - mae: 0.0957 - val_loss: 0.7766 - val_mae: 0.7064\n",
      "Epoch 132/200\n",
      "337/337 - 0s - loss: 0.0196 - mae: 0.1027 - val_loss: 0.8220 - val_mae: 0.7251\n",
      "Epoch 133/200\n",
      "337/337 - 0s - loss: 0.0197 - mae: 0.1018 - val_loss: 0.9077 - val_mae: 0.7607\n",
      "Epoch 134/200\n",
      "337/337 - 0s - loss: 0.0187 - mae: 0.0973 - val_loss: 0.8405 - val_mae: 0.7358\n",
      "Epoch 135/200\n",
      "337/337 - 0s - loss: 0.0188 - mae: 0.1021 - val_loss: 0.7790 - val_mae: 0.7096\n",
      "Epoch 136/200\n",
      "337/337 - 0s - loss: 0.0239 - mae: 0.1143 - val_loss: 0.7727 - val_mae: 0.7084\n",
      "Epoch 137/200\n",
      "337/337 - 0s - loss: 0.0159 - mae: 0.0885 - val_loss: 0.9039 - val_mae: 0.7633\n",
      "Epoch 138/200\n",
      "337/337 - 0s - loss: 0.0170 - mae: 0.0915 - val_loss: 0.8377 - val_mae: 0.7301\n",
      "Epoch 139/200\n",
      "337/337 - 0s - loss: 0.0137 - mae: 0.0838 - val_loss: 0.8739 - val_mae: 0.7448\n",
      "Epoch 140/200\n",
      "337/337 - 0s - loss: 0.0128 - mae: 0.0813 - val_loss: 0.7977 - val_mae: 0.7201\n",
      "Epoch 141/200\n",
      "337/337 - 0s - loss: 0.0153 - mae: 0.0860 - val_loss: 0.8702 - val_mae: 0.7458\n",
      "Epoch 142/200\n",
      "337/337 - 0s - loss: 0.0132 - mae: 0.0829 - val_loss: 0.8568 - val_mae: 0.7369\n",
      "Epoch 143/200\n",
      "337/337 - 0s - loss: 0.0137 - mae: 0.0823 - val_loss: 0.8806 - val_mae: 0.7557\n",
      "Epoch 144/200\n",
      "337/337 - 0s - loss: 0.0115 - mae: 0.0738 - val_loss: 0.8256 - val_mae: 0.7264\n",
      "Epoch 145/200\n",
      "337/337 - 0s - loss: 0.0115 - mae: 0.0750 - val_loss: 0.8821 - val_mae: 0.7540\n",
      "Epoch 146/200\n",
      "337/337 - 0s - loss: 0.0121 - mae: 0.0751 - val_loss: 0.8049 - val_mae: 0.7220\n",
      "Epoch 147/200\n",
      "337/337 - 0s - loss: 0.0112 - mae: 0.0726 - val_loss: 0.8533 - val_mae: 0.7456\n",
      "Epoch 148/200\n",
      "337/337 - 0s - loss: 0.0122 - mae: 0.0730 - val_loss: 0.8300 - val_mae: 0.7291\n",
      "Epoch 149/200\n",
      "337/337 - 0s - loss: 0.0161 - mae: 0.0939 - val_loss: 0.9157 - val_mae: 0.7719\n",
      "Epoch 150/200\n",
      "337/337 - 0s - loss: 0.0132 - mae: 0.0854 - val_loss: 0.7816 - val_mae: 0.7123\n",
      "Epoch 151/200\n",
      "337/337 - 0s - loss: 0.0135 - mae: 0.0853 - val_loss: 0.9278 - val_mae: 0.7799\n",
      "Epoch 152/200\n",
      "337/337 - 0s - loss: 0.0142 - mae: 0.0889 - val_loss: 0.8555 - val_mae: 0.7331\n",
      "Epoch 153/200\n",
      "337/337 - 0s - loss: 0.0162 - mae: 0.0955 - val_loss: 0.8980 - val_mae: 0.7664\n",
      "Epoch 154/200\n",
      "337/337 - 0s - loss: 0.0119 - mae: 0.0783 - val_loss: 0.8293 - val_mae: 0.7348\n",
      "Epoch 155/200\n",
      "337/337 - 0s - loss: 0.0093 - mae: 0.0677 - val_loss: 0.8925 - val_mae: 0.7676\n",
      "Epoch 156/200\n",
      "337/337 - 0s - loss: 0.0082 - mae: 0.0603 - val_loss: 0.8539 - val_mae: 0.7453\n",
      "Epoch 157/200\n",
      "337/337 - 0s - loss: 0.0083 - mae: 0.0634 - val_loss: 0.8973 - val_mae: 0.7545\n",
      "Epoch 158/200\n",
      "337/337 - 0s - loss: 0.0117 - mae: 0.0779 - val_loss: 0.9034 - val_mae: 0.7559\n",
      "Epoch 159/200\n",
      "337/337 - 0s - loss: 0.0091 - mae: 0.0642 - val_loss: 0.8271 - val_mae: 0.7328\n",
      "Epoch 160/200\n",
      "337/337 - 0s - loss: 0.0074 - mae: 0.0569 - val_loss: 0.8402 - val_mae: 0.7379\n",
      "Epoch 161/200\n",
      "337/337 - 0s - loss: 0.0079 - mae: 0.0616 - val_loss: 0.8631 - val_mae: 0.7420\n",
      "Epoch 162/200\n",
      "337/337 - 0s - loss: 0.0091 - mae: 0.0702 - val_loss: 0.8558 - val_mae: 0.7456\n",
      "Epoch 163/200\n",
      "337/337 - 0s - loss: 0.0105 - mae: 0.0706 - val_loss: 0.7672 - val_mae: 0.7032\n",
      "Epoch 164/200\n",
      "337/337 - 0s - loss: 0.0139 - mae: 0.0871 - val_loss: 0.9279 - val_mae: 0.7697\n",
      "Epoch 165/200\n",
      "337/337 - 0s - loss: 0.0155 - mae: 0.0922 - val_loss: 0.8092 - val_mae: 0.7241\n",
      "Epoch 166/200\n",
      "337/337 - 0s - loss: 0.0165 - mae: 0.0947 - val_loss: 0.8755 - val_mae: 0.7483\n",
      "Epoch 167/200\n",
      "337/337 - 0s - loss: 0.0199 - mae: 0.1030 - val_loss: 0.8549 - val_mae: 0.7455\n",
      "Epoch 168/200\n",
      "337/337 - 0s - loss: 0.0170 - mae: 0.0993 - val_loss: 0.9847 - val_mae: 0.8033\n",
      "Epoch 169/200\n",
      "337/337 - 0s - loss: 0.0265 - mae: 0.1263 - val_loss: 0.8222 - val_mae: 0.6964\n",
      "Epoch 170/200\n",
      "337/337 - 0s - loss: 0.0900 - mae: 0.2375 - val_loss: 0.7687 - val_mae: 0.6866\n",
      "Epoch 171/200\n",
      "337/337 - 0s - loss: 0.0551 - mae: 0.1764 - val_loss: 0.8282 - val_mae: 0.7097\n",
      "Epoch 172/200\n",
      "337/337 - 0s - loss: 0.0537 - mae: 0.1795 - val_loss: 1.0254 - val_mae: 0.7989\n",
      "Epoch 173/200\n",
      "337/337 - 0s - loss: 0.0681 - mae: 0.2103 - val_loss: 0.9210 - val_mae: 0.7537\n",
      "Epoch 174/200\n",
      "337/337 - 0s - loss: 0.0471 - mae: 0.1669 - val_loss: 0.9433 - val_mae: 0.7627\n",
      "Epoch 175/200\n",
      "337/337 - 0s - loss: 0.0310 - mae: 0.1340 - val_loss: 0.8450 - val_mae: 0.7291\n",
      "Epoch 176/200\n",
      "337/337 - 0s - loss: 0.0250 - mae: 0.1168 - val_loss: 0.8758 - val_mae: 0.7430\n",
      "Epoch 177/200\n",
      "337/337 - 0s - loss: 0.0181 - mae: 0.1025 - val_loss: 0.8330 - val_mae: 0.7256\n",
      "Epoch 178/200\n",
      "337/337 - 0s - loss: 0.0165 - mae: 0.0927 - val_loss: 0.9063 - val_mae: 0.7570\n",
      "Epoch 179/200\n",
      "337/337 - 0s - loss: 0.0174 - mae: 0.1009 - val_loss: 0.8740 - val_mae: 0.7493\n",
      "Epoch 180/200\n",
      "337/337 - 0s - loss: 0.0139 - mae: 0.0872 - val_loss: 0.8036 - val_mae: 0.7027\n",
      "Epoch 181/200\n",
      "337/337 - 0s - loss: 0.0186 - mae: 0.0991 - val_loss: 0.8253 - val_mae: 0.7184\n",
      "Epoch 182/200\n",
      "337/337 - 0s - loss: 0.0152 - mae: 0.0941 - val_loss: 0.8400 - val_mae: 0.7266\n",
      "Epoch 183/200\n",
      "337/337 - 0s - loss: 0.0170 - mae: 0.0947 - val_loss: 0.8913 - val_mae: 0.7399\n",
      "Epoch 184/200\n",
      "337/337 - 0s - loss: 0.0169 - mae: 0.0965 - val_loss: 0.8881 - val_mae: 0.7555\n",
      "Epoch 185/200\n",
      "337/337 - 0s - loss: 0.0135 - mae: 0.0869 - val_loss: 0.8583 - val_mae: 0.7433\n",
      "Epoch 186/200\n",
      "337/337 - 0s - loss: 0.0124 - mae: 0.0829 - val_loss: 0.8613 - val_mae: 0.7380\n",
      "Epoch 187/200\n",
      "337/337 - 0s - loss: 0.0105 - mae: 0.0741 - val_loss: 0.8278 - val_mae: 0.7276\n",
      "Epoch 188/200\n",
      "337/337 - 0s - loss: 0.0080 - mae: 0.0686 - val_loss: 0.9039 - val_mae: 0.7499\n",
      "Epoch 189/200\n",
      "337/337 - 0s - loss: 0.0075 - mae: 0.0608 - val_loss: 0.8315 - val_mae: 0.7246\n",
      "Epoch 190/200\n",
      "337/337 - 0s - loss: 0.0062 - mae: 0.0566 - val_loss: 0.8556 - val_mae: 0.7405\n",
      "Epoch 191/200\n",
      "337/337 - 0s - loss: 0.0057 - mae: 0.0511 - val_loss: 0.8621 - val_mae: 0.7398\n",
      "Epoch 192/200\n",
      "337/337 - 0s - loss: 0.0042 - mae: 0.0443 - val_loss: 0.8619 - val_mae: 0.7420\n",
      "Epoch 193/200\n",
      "337/337 - 0s - loss: 0.0055 - mae: 0.0524 - val_loss: 0.8651 - val_mae: 0.7438\n",
      "Epoch 194/200\n",
      "337/337 - 0s - loss: 0.0061 - mae: 0.0539 - val_loss: 0.8620 - val_mae: 0.7362\n",
      "Epoch 195/200\n",
      "337/337 - 0s - loss: 0.0054 - mae: 0.0524 - val_loss: 0.8964 - val_mae: 0.7527\n",
      "Epoch 196/200\n",
      "337/337 - 0s - loss: 0.0046 - mae: 0.0470 - val_loss: 0.8601 - val_mae: 0.7300\n",
      "Epoch 197/200\n",
      "337/337 - 0s - loss: 0.0077 - mae: 0.0653 - val_loss: 0.8175 - val_mae: 0.7213\n",
      "Epoch 198/200\n",
      "337/337 - 0s - loss: 0.0092 - mae: 0.0714 - val_loss: 0.9251 - val_mae: 0.7706\n",
      "Epoch 199/200\n",
      "337/337 - 0s - loss: 0.0094 - mae: 0.0753 - val_loss: 0.8427 - val_mae: 0.7366\n",
      "Epoch 200/200\n",
      "337/337 - 0s - loss: 0.0065 - mae: 0.0591 - val_loss: 0.8494 - val_mae: 0.7440\n"
     ]
    }
   ],
   "source": [
    "# Train the model, with some of the data reserved for validation\n",
    "\n",
    "history = model.fit(train_data, train_targets, epochs = 200, validation_split = 0.15, batch_size = 64, verbose = 2)"
   ]
  },
  {
   "cell_type": "code",
   "execution_count": 12,
   "metadata": {},
   "outputs": [
    {
     "name": "stdout",
     "output_type": "stream",
     "text": [
      "45/1 - 0s - loss: 0.8151 - mae: 0.6056\n"
     ]
    },
    {
     "data": {
      "text/plain": [
       "[0.652232649591234, 0.60556155]"
      ]
     },
     "execution_count": 12,
     "metadata": {},
     "output_type": "execute_result"
    }
   ],
   "source": [
    "# Evaluate the model on the test set\n",
    "\n",
    "model.evaluate(test_data, test_targets, verbose = 2)"
   ]
  },
  {
   "cell_type": "markdown",
   "metadata": {},
   "source": [
    "#### Plot the learning curves"
   ]
  },
  {
   "cell_type": "code",
   "execution_count": 13,
   "metadata": {},
   "outputs": [],
   "source": [
    "import matplotlib.pyplot as plt\n",
    "%matplotlib inline"
   ]
  },
  {
   "cell_type": "code",
   "execution_count": 14,
   "metadata": {},
   "outputs": [
    {
     "data": {
      "text/plain": [
       "dict_keys(['loss', 'mae', 'val_loss', 'val_mae'])"
      ]
     },
     "execution_count": 14,
     "metadata": {},
     "output_type": "execute_result"
    }
   ],
   "source": [
    "history.history.keys()"
   ]
  },
  {
   "cell_type": "code",
   "execution_count": 15,
   "metadata": {},
   "outputs": [
    {
     "data": {
      "image/png": "[encoded data removed]",
      "text/plain": [
       "<Figure size 432x288 with 1 Axes>"
      ]
     },
     "metadata": {
      "needs_background": "light"
     },
     "output_type": "display_data"
    }
   ],
   "source": [
    "# Plot the training and validation mae\n",
    "\n",
    "plt.plot(history.history['mae'])\n",
    "plt.plot(history.history['val_mae'])\n",
    "plt.title('MAE vs Epochs')\n",
    "plt.xlabel('Epoch')\n",
    "plt.ylabel('MAE')\n",
    "plt.legend(['Training', 'Validation'], loc = 'upper right')\n",
    "plt.show()"
   ]
  },
  {
   "cell_type": "code",
   "execution_count": 16,
   "metadata": {},
   "outputs": [
    {
     "data": {
      "image/png": "[encoded data removed]",
      "text/plain": [
       "<Figure size 432x288 with 1 Axes>"
      ]
     },
     "metadata": {
      "needs_background": "light"
     },
     "output_type": "display_data"
    }
   ],
   "source": [
    "# Plot the training and validation loss\n",
    "\n",
    "plt.plot(history.history['loss'])\n",
    "plt.plot(history.history['val_loss'])\n",
    "plt.title('Loss vs. epochs')\n",
    "plt.ylabel('Loss')\n",
    "plt.xlabel('Epoch')\n",
    "plt.legend(['Training', 'Validation'], loc='upper right')\n",
    "plt.show()"
   ]
  },
  {
   "cell_type": "markdown",
   "metadata": {},
   "source": [
    "***\n",
    "<a id=\"coding_tutorial_2\"></a>\n",
    "## Model regularisation"
   ]
  },
  {
   "cell_type": "markdown",
   "metadata": {},
   "source": [
    "#### Adding regularisation with weight decay and dropout"
   ]
  },
  {
   "cell_type": "code",
   "execution_count": 17,
   "metadata": {},
   "outputs": [],
   "source": [
    "from tensorflow.keras.layers import Dropout\n",
    "from tensorflow.keras import regularizers"
   ]
  },
  {
   "cell_type": "code",
   "execution_count": 18,
   "metadata": {},
   "outputs": [],
   "source": [
    "def get_regularized_model(wd, rate):\n",
    "    model = Sequential([\n",
    "        Dense(128, kernel_regularizer = regularizers.l2(wd),\n",
    "              activation=\"relu\", input_shape=(train_data.shape[1],)),\n",
    "        Dropout(rate),\n",
    "        Dense(128, kernel_regularizer = regularizers.l2(wd), activation=\"relu\"),\n",
    "        Dropout(rate),\n",
    "        Dense(128, kernel_regularizer = regularizers.l2(wd), activation=\"relu\"),\n",
    "        Dropout(rate),\n",
    "        Dense(128, kernel_regularizer = regularizers.l2(wd), activation=\"relu\"),\n",
    "        Dropout(rate),\n",
    "        Dense(128, kernel_regularizer = regularizers.l2(wd), activation=\"relu\"),\n",
    "        Dropout(rate),\n",
    "        Dense(128, kernel_regularizer = regularizers.l2(wd), activation=\"relu\"),\n",
    "        Dropout(rate),\n",
    "        Dense(1)\n",
    "    ])\n",
    "    return model"
   ]
  },
  {
   "cell_type": "code",
   "execution_count": 19,
   "metadata": {},
   "outputs": [],
   "source": [
    "# Re-build the model with weight decay and dropout layers\n",
    "model = get_regularized_model(1e-5, 0.3)"
   ]
  },
  {
   "cell_type": "code",
   "execution_count": 20,
   "metadata": {},
   "outputs": [],
   "source": [
    "# Compile the model\n",
    "model.compile(optimizer = 'adam', loss = 'mse', metrics = ['mae'])"
   ]
  },
  {
   "cell_type": "code",
   "execution_count": 21,
   "metadata": {},
   "outputs": [
    {
     "name": "stdout",
     "output_type": "stream",
     "text": [
      "Train on 337 samples, validate on 60 samples\n",
      "Epoch 1/100\n",
      "337/337 - 2s - loss: 1.0514 - mae: 0.8808 - val_loss: 0.7424 - val_mae: 0.7351\n",
      "Epoch 2/100\n",
      "337/337 - 0s - loss: 1.0337 - mae: 0.8752 - val_loss: 0.7273 - val_mae: 0.7281\n",
      "Epoch 3/100\n",
      "337/337 - 0s - loss: 0.9893 - mae: 0.8596 - val_loss: 0.6740 - val_mae: 0.6969\n",
      "Epoch 4/100\n",
      "337/337 - 0s - loss: 0.8785 - mae: 0.8157 - val_loss: 0.5847 - val_mae: 0.6407\n",
      "Epoch 5/100\n",
      "337/337 - 0s - loss: 0.6949 - mae: 0.7113 - val_loss: 0.5126 - val_mae: 0.5761\n",
      "Epoch 6/100\n",
      "337/337 - 0s - loss: 0.6562 - mae: 0.6444 - val_loss: 0.5849 - val_mae: 0.6036\n",
      "Epoch 7/100\n",
      "337/337 - 0s - loss: 0.6610 - mae: 0.6539 - val_loss: 0.4986 - val_mae: 0.5693\n",
      "Epoch 8/100\n",
      "337/337 - 0s - loss: 0.6298 - mae: 0.6562 - val_loss: 0.5064 - val_mae: 0.5731\n",
      "Epoch 9/100\n",
      "337/337 - 0s - loss: 0.6389 - mae: 0.6667 - val_loss: 0.6398 - val_mae: 0.6589\n",
      "Epoch 10/100\n",
      "337/337 - 0s - loss: 0.6335 - mae: 0.6619 - val_loss: 0.4893 - val_mae: 0.5564\n",
      "Epoch 11/100\n",
      "337/337 - 0s - loss: 0.5820 - mae: 0.6153 - val_loss: 0.5224 - val_mae: 0.5490\n",
      "Epoch 12/100\n",
      "337/337 - 0s - loss: 0.5736 - mae: 0.6166 - val_loss: 0.5817 - val_mae: 0.5918\n",
      "Epoch 13/100\n",
      "337/337 - 0s - loss: 0.5229 - mae: 0.5939 - val_loss: 0.4913 - val_mae: 0.5379\n",
      "Epoch 14/100\n",
      "337/337 - 0s - loss: 0.5336 - mae: 0.5996 - val_loss: 0.5020 - val_mae: 0.5333\n",
      "Epoch 15/100\n",
      "337/337 - 0s - loss: 0.5489 - mae: 0.6074 - val_loss: 0.5404 - val_mae: 0.5719\n",
      "Epoch 16/100\n",
      "337/337 - 0s - loss: 0.5925 - mae: 0.6347 - val_loss: 0.4977 - val_mae: 0.5371\n",
      "Epoch 17/100\n",
      "337/337 - 0s - loss: 0.5453 - mae: 0.5996 - val_loss: 0.4834 - val_mae: 0.5252\n",
      "Epoch 18/100\n",
      "337/337 - 0s - loss: 0.5460 - mae: 0.6026 - val_loss: 0.5119 - val_mae: 0.5539\n",
      "Epoch 19/100\n",
      "337/337 - 0s - loss: 0.5298 - mae: 0.5898 - val_loss: 0.5071 - val_mae: 0.5252\n",
      "Epoch 20/100\n",
      "337/337 - 0s - loss: 0.5379 - mae: 0.5935 - val_loss: 0.5195 - val_mae: 0.5310\n",
      "Epoch 21/100\n",
      "337/337 - 0s - loss: 0.5462 - mae: 0.5928 - val_loss: 0.5012 - val_mae: 0.5482\n",
      "Epoch 22/100\n",
      "337/337 - 0s - loss: 0.4990 - mae: 0.5791 - val_loss: 0.4931 - val_mae: 0.5332\n",
      "Epoch 23/100\n",
      "337/337 - 0s - loss: 0.5384 - mae: 0.5949 - val_loss: 0.5036 - val_mae: 0.5360\n",
      "Epoch 24/100\n",
      "337/337 - 0s - loss: 0.5133 - mae: 0.5769 - val_loss: 0.4927 - val_mae: 0.5358\n",
      "Epoch 25/100\n",
      "337/337 - 0s - loss: 0.5023 - mae: 0.5696 - val_loss: 0.4762 - val_mae: 0.5249\n",
      "Epoch 26/100\n",
      "337/337 - 0s - loss: 0.5237 - mae: 0.5881 - val_loss: 0.5347 - val_mae: 0.5695\n",
      "Epoch 27/100\n",
      "337/337 - 0s - loss: 0.5177 - mae: 0.5849 - val_loss: 0.5047 - val_mae: 0.5194\n",
      "Epoch 28/100\n",
      "337/337 - 0s - loss: 0.5125 - mae: 0.5752 - val_loss: 0.5331 - val_mae: 0.5474\n",
      "Epoch 29/100\n",
      "337/337 - 0s - loss: 0.5033 - mae: 0.5687 - val_loss: 0.5067 - val_mae: 0.5481\n",
      "Epoch 30/100\n",
      "337/337 - 0s - loss: 0.5226 - mae: 0.5843 - val_loss: 0.5000 - val_mae: 0.5410\n",
      "Epoch 31/100\n",
      "337/337 - 0s - loss: 0.5130 - mae: 0.5753 - val_loss: 0.5405 - val_mae: 0.5580\n",
      "Epoch 32/100\n",
      "337/337 - 0s - loss: 0.4737 - mae: 0.5493 - val_loss: 0.5298 - val_mae: 0.5475\n",
      "Epoch 33/100\n",
      "337/337 - 0s - loss: 0.4877 - mae: 0.5542 - val_loss: 0.5298 - val_mae: 0.5605\n",
      "Epoch 34/100\n",
      "337/337 - 0s - loss: 0.5037 - mae: 0.5694 - val_loss: 0.5300 - val_mae: 0.5627\n",
      "Epoch 35/100\n",
      "337/337 - 0s - loss: 0.4981 - mae: 0.5752 - val_loss: 0.5243 - val_mae: 0.5557\n",
      "Epoch 36/100\n",
      "337/337 - 0s - loss: 0.5239 - mae: 0.5798 - val_loss: 0.5114 - val_mae: 0.5476\n",
      "Epoch 37/100\n",
      "337/337 - 0s - loss: 0.5104 - mae: 0.5792 - val_loss: 0.5969 - val_mae: 0.6065\n",
      "Epoch 38/100\n",
      "337/337 - 0s - loss: 0.4769 - mae: 0.5669 - val_loss: 0.5178 - val_mae: 0.5410\n",
      "Epoch 39/100\n",
      "337/337 - 0s - loss: 0.4799 - mae: 0.5467 - val_loss: 0.5772 - val_mae: 0.5617\n",
      "Epoch 40/100\n",
      "337/337 - 0s - loss: 0.4826 - mae: 0.5546 - val_loss: 0.5839 - val_mae: 0.5831\n",
      "Epoch 41/100\n",
      "337/337 - 0s - loss: 0.4649 - mae: 0.5402 - val_loss: 0.5337 - val_mae: 0.5546\n",
      "Epoch 42/100\n",
      "337/337 - 0s - loss: 0.4653 - mae: 0.5428 - val_loss: 0.5224 - val_mae: 0.5629\n",
      "Epoch 43/100\n",
      "337/337 - 0s - loss: 0.4562 - mae: 0.5474 - val_loss: 0.5676 - val_mae: 0.5816\n",
      "Epoch 44/100\n",
      "337/337 - 0s - loss: 0.4647 - mae: 0.5488 - val_loss: 0.5938 - val_mae: 0.5671\n",
      "Epoch 45/100\n",
      "337/337 - 0s - loss: 0.4509 - mae: 0.5229 - val_loss: 0.6381 - val_mae: 0.6114\n",
      "Epoch 46/100\n",
      "337/337 - 0s - loss: 0.4613 - mae: 0.5370 - val_loss: 0.5510 - val_mae: 0.5577\n",
      "Epoch 47/100\n",
      "337/337 - 0s - loss: 0.4728 - mae: 0.5506 - val_loss: 0.5543 - val_mae: 0.5670\n",
      "Epoch 48/100\n",
      "337/337 - 0s - loss: 0.4575 - mae: 0.5326 - val_loss: 0.6007 - val_mae: 0.5882\n",
      "Epoch 49/100\n",
      "337/337 - 0s - loss: 0.4543 - mae: 0.5413 - val_loss: 0.5422 - val_mae: 0.5519\n",
      "Epoch 50/100\n",
      "337/337 - 0s - loss: 0.4567 - mae: 0.5392 - val_loss: 0.5603 - val_mae: 0.5613\n",
      "Epoch 51/100\n",
      "337/337 - 0s - loss: 0.4490 - mae: 0.5299 - val_loss: 0.5734 - val_mae: 0.5690\n",
      "Epoch 52/100\n",
      "337/337 - 0s - loss: 0.4454 - mae: 0.5277 - val_loss: 0.5941 - val_mae: 0.5832\n",
      "Epoch 53/100\n",
      "337/337 - 0s - loss: 0.4320 - mae: 0.5134 - val_loss: 0.5885 - val_mae: 0.5685\n",
      "Epoch 54/100\n",
      "337/337 - 0s - loss: 0.4579 - mae: 0.5329 - val_loss: 0.5602 - val_mae: 0.5667\n",
      "Epoch 55/100\n",
      "337/337 - 0s - loss: 0.4172 - mae: 0.5174 - val_loss: 0.5454 - val_mae: 0.5635\n",
      "Epoch 56/100\n",
      "337/337 - 0s - loss: 0.4459 - mae: 0.5347 - val_loss: 0.5797 - val_mae: 0.5641\n",
      "Epoch 57/100\n",
      "337/337 - 0s - loss: 0.4430 - mae: 0.5329 - val_loss: 0.5980 - val_mae: 0.5709\n",
      "Epoch 58/100\n",
      "337/337 - 0s - loss: 0.4232 - mae: 0.5114 - val_loss: 0.6152 - val_mae: 0.5792\n",
      "Epoch 59/100\n",
      "337/337 - 0s - loss: 0.4289 - mae: 0.5061 - val_loss: 0.6351 - val_mae: 0.5929\n",
      "Epoch 60/100\n",
      "337/337 - 0s - loss: 0.4430 - mae: 0.5322 - val_loss: 0.6299 - val_mae: 0.5926\n",
      "Epoch 61/100\n",
      "337/337 - 0s - loss: 0.4297 - mae: 0.5225 - val_loss: 0.6130 - val_mae: 0.5912\n",
      "Epoch 62/100\n",
      "337/337 - 0s - loss: 0.4418 - mae: 0.5278 - val_loss: 0.6551 - val_mae: 0.6058\n",
      "Epoch 63/100\n",
      "337/337 - 0s - loss: 0.4487 - mae: 0.5238 - val_loss: 0.6073 - val_mae: 0.5728\n",
      "Epoch 64/100\n",
      "337/337 - 0s - loss: 0.4311 - mae: 0.5124 - val_loss: 0.5743 - val_mae: 0.5797\n",
      "Epoch 65/100\n",
      "337/337 - 0s - loss: 0.4417 - mae: 0.5288 - val_loss: 0.6032 - val_mae: 0.5990\n",
      "Epoch 66/100\n",
      "337/337 - 0s - loss: 0.4395 - mae: 0.5223 - val_loss: 0.6709 - val_mae: 0.6076\n",
      "Epoch 67/100\n",
      "337/337 - 0s - loss: 0.4294 - mae: 0.5176 - val_loss: 0.6541 - val_mae: 0.6168\n",
      "Epoch 68/100\n",
      "337/337 - 0s - loss: 0.4235 - mae: 0.5107 - val_loss: 0.6088 - val_mae: 0.5892\n",
      "Epoch 69/100\n",
      "337/337 - 0s - loss: 0.4315 - mae: 0.5222 - val_loss: 0.6041 - val_mae: 0.5825\n",
      "Epoch 70/100\n",
      "337/337 - 0s - loss: 0.4010 - mae: 0.5129 - val_loss: 0.6122 - val_mae: 0.5763\n",
      "Epoch 71/100\n",
      "337/337 - 0s - loss: 0.4167 - mae: 0.5138 - val_loss: 0.6134 - val_mae: 0.5806\n",
      "Epoch 72/100\n",
      "337/337 - 0s - loss: 0.4376 - mae: 0.5251 - val_loss: 0.6088 - val_mae: 0.5824\n",
      "Epoch 73/100\n",
      "337/337 - 0s - loss: 0.4253 - mae: 0.5092 - val_loss: 0.6193 - val_mae: 0.5875\n",
      "Epoch 74/100\n",
      "337/337 - 0s - loss: 0.4206 - mae: 0.5119 - val_loss: 0.6287 - val_mae: 0.5922\n",
      "Epoch 75/100\n",
      "337/337 - 0s - loss: 0.4034 - mae: 0.5052 - val_loss: 0.6009 - val_mae: 0.5738\n",
      "Epoch 76/100\n",
      "337/337 - 0s - loss: 0.4610 - mae: 0.5355 - val_loss: 0.6492 - val_mae: 0.5978\n",
      "Epoch 77/100\n",
      "337/337 - 0s - loss: 0.4264 - mae: 0.5163 - val_loss: 0.7106 - val_mae: 0.6387\n",
      "Epoch 78/100\n",
      "337/337 - 0s - loss: 0.4419 - mae: 0.5303 - val_loss: 0.6153 - val_mae: 0.5848\n",
      "Epoch 79/100\n",
      "337/337 - 0s - loss: 0.4262 - mae: 0.5234 - val_loss: 0.6282 - val_mae: 0.6132\n",
      "Epoch 80/100\n",
      "337/337 - 0s - loss: 0.4035 - mae: 0.5150 - val_loss: 0.6753 - val_mae: 0.6110\n",
      "Epoch 81/100\n",
      "337/337 - 0s - loss: 0.4178 - mae: 0.4879 - val_loss: 0.6986 - val_mae: 0.6144\n",
      "Epoch 82/100\n",
      "337/337 - 0s - loss: 0.4296 - mae: 0.5162 - val_loss: 0.6747 - val_mae: 0.6223\n",
      "Epoch 83/100\n",
      "337/337 - 0s - loss: 0.3913 - mae: 0.5021 - val_loss: 0.6650 - val_mae: 0.6229\n",
      "Epoch 84/100\n",
      "337/337 - 0s - loss: 0.3941 - mae: 0.5019 - val_loss: 0.6553 - val_mae: 0.6130\n",
      "Epoch 85/100\n",
      "337/337 - 0s - loss: 0.3814 - mae: 0.4902 - val_loss: 0.6288 - val_mae: 0.5933\n",
      "Epoch 86/100\n",
      "337/337 - 0s - loss: 0.3977 - mae: 0.5006 - val_loss: 0.6588 - val_mae: 0.5932\n",
      "Epoch 87/100\n",
      "337/337 - 0s - loss: 0.4251 - mae: 0.5070 - val_loss: 0.6197 - val_mae: 0.5803\n",
      "Epoch 88/100\n",
      "337/337 - 0s - loss: 0.3846 - mae: 0.4890 - val_loss: 0.6279 - val_mae: 0.6011\n",
      "Epoch 89/100\n",
      "337/337 - 0s - loss: 0.4015 - mae: 0.4948 - val_loss: 0.6423 - val_mae: 0.5731\n",
      "Epoch 90/100\n",
      "337/337 - 0s - loss: 0.3797 - mae: 0.4758 - val_loss: 0.6801 - val_mae: 0.6168\n",
      "Epoch 91/100\n",
      "337/337 - 0s - loss: 0.4046 - mae: 0.4953 - val_loss: 0.6330 - val_mae: 0.5781\n",
      "Epoch 92/100\n",
      "337/337 - 0s - loss: 0.3783 - mae: 0.4929 - val_loss: 0.6676 - val_mae: 0.5942\n",
      "Epoch 93/100\n",
      "337/337 - 0s - loss: 0.3785 - mae: 0.4799 - val_loss: 0.7212 - val_mae: 0.6189\n",
      "Epoch 94/100\n",
      "337/337 - 0s - loss: 0.3844 - mae: 0.4954 - val_loss: 0.7119 - val_mae: 0.6279\n",
      "Epoch 95/100\n",
      "337/337 - 0s - loss: 0.3827 - mae: 0.4870 - val_loss: 0.6502 - val_mae: 0.6049\n",
      "Epoch 96/100\n",
      "337/337 - 0s - loss: 0.3896 - mae: 0.4963 - val_loss: 0.6571 - val_mae: 0.5982\n",
      "Epoch 97/100\n",
      "337/337 - 0s - loss: 0.4128 - mae: 0.5101 - val_loss: 0.6681 - val_mae: 0.6037\n",
      "Epoch 98/100\n",
      "337/337 - 0s - loss: 0.3849 - mae: 0.4831 - val_loss: 0.6994 - val_mae: 0.6124\n",
      "Epoch 99/100\n",
      "337/337 - 0s - loss: 0.3735 - mae: 0.4762 - val_loss: 0.7060 - val_mae: 0.6263\n",
      "Epoch 100/100\n",
      "337/337 - 0s - loss: 0.3672 - mae: 0.4794 - val_loss: 0.7073 - val_mae: 0.6234\n"
     ]
    }
   ],
   "source": [
    "# Train the model, with some of the data reserved for validation\n",
    "history = model.fit(train_data, train_targets, epochs = 100, validation_split = 0.15, batch_size = 64, verbose = 2)"
   ]
  },
  {
   "cell_type": "code",
   "execution_count": 22,
   "metadata": {},
   "outputs": [
    {
     "name": "stdout",
     "output_type": "stream",
     "text": [
      "45/1 - 0s - loss: 0.3361 - mae: 0.4807\n"
     ]
    },
    {
     "data": {
      "text/plain": [
       "[0.3384882105721368, 0.480749]"
      ]
     },
     "execution_count": 22,
     "metadata": {},
     "output_type": "execute_result"
    }
   ],
   "source": [
    "# Evaluate the model on the test set\n",
    "model.evaluate(test_data, test_targets, verbose = 2)\n",
    "# The loss is less as compared to unregularized model"
   ]
  },
  {
   "cell_type": "markdown",
   "metadata": {},
   "source": [
    "#### Plot the learning curves"
   ]
  },
  {
   "cell_type": "code",
   "execution_count": 23,
   "metadata": {},
   "outputs": [
    {
     "data": {
      "image/png": "[encoded data removed]",
      "text/plain": [
       "<Figure size 432x288 with 1 Axes>"
      ]
     },
     "metadata": {
      "needs_background": "light"
     },
     "output_type": "display_data"
    }
   ],
   "source": [
    "# Plot the training and validation loss\n",
    "\n",
    "import matplotlib.pyplot as plt\n",
    "\n",
    "plt.plot(history.history['loss'])\n",
    "plt.plot(history.history['val_loss'])\n",
    "plt.title('Loss vs. epochs')\n",
    "plt.ylabel('Loss')\n",
    "plt.xlabel('Epoch')\n",
    "plt.legend(['Training', 'Validation'], loc='upper right')\n",
    "plt.show()"
   ]
  },
  {
   "cell_type": "markdown",
   "metadata": {},
   "source": [
    "***\n",
    "<a id=\"coding_tutorial_3\"></a>\n",
    "## Introduction to callbacks"
   ]
  },
  {
   "cell_type": "markdown",
   "metadata": {},
   "source": [
    "#### Example training callback"
   ]
  },
  {
   "cell_type": "code",
   "execution_count": 24,
   "metadata": {},
   "outputs": [],
   "source": [
    "# Write a custom callback\n",
    "from tensorflow.keras.callbacks import Callback\n",
    "\n",
    "class TrainingCallback(Callback):\n",
    "    def on_train_begin(self, logs = None):\n",
    "        print('Starting training...')\n",
    "    def on_begin_epoch(self, epoch, logs = None):\n",
    "        print(f\"Starting Epoch {epoch}\")\n",
    "    def on_train_batch_begin(self, batch, logs = None):\n",
    "        print(f\"Starting Batch {batch}\")\n",
    "    def on_train_batch_end(self, batch, logs = None):\n",
    "        print(f\"Training: Finished batch {batch}\")\n",
    "    def on_epoch_end(self, epoch, logs = None):\n",
    "        print(f\"Finished epoch {epoch}\")\n",
    "    def on_train_end(self, logs = None):\n",
    "        print(\"Finished Training!\")"
   ]
  },
  {
   "cell_type": "code",
   "execution_count": 25,
   "metadata": {},
   "outputs": [],
   "source": [
    "# Re-build the model\n",
    "\n",
    "model = get_regularized_model(1e-5, 0.3)"
   ]
  },
  {
   "cell_type": "code",
   "execution_count": 26,
   "metadata": {},
   "outputs": [],
   "source": [
    "# Compile the model\n",
    "\n",
    "model.compile(optimizer = 'adam', loss = 'mse')"
   ]
  },
  {
   "cell_type": "markdown",
   "metadata": {},
   "source": [
    "#### Train the model with the callback"
   ]
  },
  {
   "cell_type": "code",
   "execution_count": 27,
   "metadata": {},
   "outputs": [
    {
     "name": "stdout",
     "output_type": "stream",
     "text": [
      "Starting training...\n",
      "Starting Batch 0\n",
      "Training: Finished batch 0\n",
      "Starting Batch 1\n",
      "Training: Finished batch 1\n",
      "Starting Batch 2\n",
      "Training: Finished batch 2\n",
      "Starting Batch 3\n",
      "Training: Finished batch 3\n",
      "Finished epoch 0\n",
      "Starting Batch 0\n",
      "Training: Finished batch 0\n",
      "Starting Batch 1\n",
      "Training: Finished batch 1\n",
      "Starting Batch 2\n",
      "Training: Finished batch 2\n",
      "Starting Batch 3\n",
      "Training: Finished batch 3\n",
      "Finished epoch 1\n",
      "Starting Batch 0\n",
      "Training: Finished batch 0\n",
      "Starting Batch 1\n",
      "Training: Finished batch 1\n",
      "Starting Batch 2\n",
      "Training: Finished batch 2\n",
      "Starting Batch 3\n",
      "Training: Finished batch 3\n",
      "Finished epoch 2\n",
      "Finished Training!\n"
     ]
    },
    {
     "data": {
      "text/plain": [
       "<tensorflow.python.keras.callbacks.History at 0x7f6c94635908>"
      ]
     },
     "execution_count": 27,
     "metadata": {},
     "output_type": "execute_result"
    }
   ],
   "source": [
    "# Train the model, with some of the data reserved for validation\n",
    "\n",
    "model.fit(train_data, train_targets, epochs = 3, batch_size = 128, verbose = False, callbacks = [TrainingCallback()])"
   ]
  },
  {
   "cell_type": "code",
   "execution_count": 28,
   "metadata": {},
   "outputs": [
    {
     "name": "stdout",
     "output_type": "stream",
     "text": [
      "Starting Testing ...\n",
      "Testing: Started Batch 0\n",
      "Finished Batch 0\n",
      "Testing: Started Batch 1\n",
      "Finished Batch 1\n",
      "Finished Testing!\n"
     ]
    },
    {
     "data": {
      "text/plain": [
       "0.9063316173023648"
      ]
     },
     "execution_count": 28,
     "metadata": {},
     "output_type": "execute_result"
    }
   ],
   "source": [
    "# Evaluate the model\n",
    "\n",
    "class EvaluateCallback(Callback):\n",
    "\n",
    "    def on_test_begin(self, logs = None):\n",
    "        print(\"Starting Testing ...\")\n",
    "    def on_test_batch_begin(self, batch, logs = None):\n",
    "        print(f\"Testing: Started Batch {batch}\")\n",
    "    def on_test_batch_end(self, batch, logs = None):\n",
    "        print(f\"Finished Batch {batch}\")\n",
    "    def on_test_end(self, logs = None):\n",
    "        print(\"Finished Testing!\")\n",
    "\n",
    "model.evaluate(test_data, test_targets, verbose = False,\n",
    "               callbacks = [EvaluateCallback()])"
   ]
  },
  {
   "cell_type": "code",
   "execution_count": 29,
   "metadata": {},
   "outputs": [
    {
     "name": "stdout",
     "output_type": "stream",
     "text": [
      "Starting Predicting ...\n",
      "Predicting: Started Batch 0\n",
      "Finished Batch 0\n",
      "Predicting: Started Batch 1\n",
      "Finished Batch 1\n",
      "Finished Predictions!\n"
     ]
    },
    {
     "data": {
      "text/plain": [
       "array([[ 7.8996949e-02],\n",
       "       [-6.2434472e-02],\n",
       "       [-6.6906005e-02],\n",
       "       [-4.9428053e-02],\n",
       "       [ 9.1145843e-02],\n",
       "       [ 7.9787023e-02],\n",
       "       [-5.7669524e-02],\n",
       "       [ 4.9128026e-02],\n",
       "       [ 2.1662194e-02],\n",
       "       [-1.3821898e-04],\n",
       "       [-6.0011506e-02],\n",
       "       [ 5.2989297e-02],\n",
       "       [ 6.9943555e-02],\n",
       "       [-4.4036645e-02],\n",
       "       [ 1.3201193e-02],\n",
       "       [-2.9366195e-02],\n",
       "       [-3.1333651e-02],\n",
       "       [-6.8286493e-02],\n",
       "       [-2.4901915e-02],\n",
       "       [-4.8822917e-02],\n",
       "       [ 1.3549665e-01],\n",
       "       [ 2.5262337e-02],\n",
       "       [ 1.1215409e-01],\n",
       "       [-5.4619189e-02],\n",
       "       [-6.7132160e-02],\n",
       "       [-5.5913717e-02],\n",
       "       [ 1.3918942e-01],\n",
       "       [-5.7705116e-02],\n",
       "       [-9.1053545e-03],\n",
       "       [-4.2711508e-02],\n",
       "       [-5.4745503e-02],\n",
       "       [-4.4359121e-02],\n",
       "       [ 4.5855597e-02],\n",
       "       [-2.3787644e-02],\n",
       "       [-3.6589496e-02],\n",
       "       [ 1.5836291e-02],\n",
       "       [ 7.2008856e-02],\n",
       "       [ 8.4755935e-02],\n",
       "       [ 9.8660327e-02],\n",
       "       [ 1.1291980e-01],\n",
       "       [-6.7595728e-02],\n",
       "       [-2.7015820e-02],\n",
       "       [ 7.9885289e-02],\n",
       "       [-4.3216527e-02],\n",
       "       [-1.5920657e-04]], dtype=float32)"
      ]
     },
     "execution_count": 29,
     "metadata": {},
     "output_type": "execute_result"
    }
   ],
   "source": [
    "# Make predictions with the model\n",
    "\n",
    "class PredictCallback(Callback):\n",
    "\n",
    "    def on_predict_begin(self, logs = None):\n",
    "        print(\"Starting Predicting ...\")\n",
    "    def on_predict_batch_begin(self, batch, logs = None):\n",
    "        print(f\"Predicting: Started Batch {batch}\")\n",
    "    def on_predict_batch_end(self, batch, logs = None):\n",
    "        print(f\"Finished Batch {batch}\")\n",
    "    def on_predict_end(self, logs = None):\n",
    "        print(\"Finished Predictions!\")\n",
    "\n",
    "model.predict(test_data, verbose = False, callbacks = [PredictCallback()])"
   ]
  },
  {
   "cell_type": "markdown",
   "metadata": {},
   "source": [
    "***\n",
    "<a id=\"coding_tutorial_4\"></a>\n",
    "## Early stopping / patience"
   ]
  },
  {
   "cell_type": "markdown",
   "metadata": {},
   "source": [
    "#### Re-train the models with early stopping"
   ]
  },
  {
   "cell_type": "code",
   "execution_count": 43,
   "metadata": {},
   "outputs": [],
   "source": [
    "# Re-train the unregularised model\n",
    "\n",
    "unregularized_model = get_model()\n",
    "unregularized_model.compile(optimizer = 'adam', loss = 'mse')\n",
    "unreg_history = unregularized_model.fit(train_data, train_targets, epochs = 100,\n",
    "                                        validation_split = 0.15, batch_size = 64, verbose = False,\n",
    "                                        callbacks = [tf.keras.callbacks.EarlyStopping(patience = 2)])\n"
   ]
  },
  {
   "cell_type": "code",
   "execution_count": 44,
   "metadata": {},
   "outputs": [
    {
     "name": "stdout",
     "output_type": "stream",
     "text": [
      "45/1 - 0s - loss: 0.3963\n"
     ]
    },
    {
     "data": {
      "text/plain": [
       "0.34361061652501423"
      ]
     },
     "execution_count": 44,
     "metadata": {},
     "output_type": "execute_result"
    }
   ],
   "source": [
    "# Evaluate the model on the test set\n",
    "\n",
    "unregularized_model.evaluate(test_data, test_targets, verbose = 2)"
   ]
  },
  {
   "cell_type": "code",
   "execution_count": 45,
   "metadata": {},
   "outputs": [],
   "source": [
    "# Re-train the regularised model\n",
    "\n",
    "regularized_model = get_regularized_model(1e-8, 0.2)\n",
    "regularized_model.compile(optimizer = 'adam', loss = 'mse')\n",
    "reg_history = regularized_model.fit(train_data, train_targets, epochs = 100,\n",
    "                     validation_split = 0.15, batch_size = 64, verbose = False,\n",
    "                     callbacks = [tf.keras.callbacks.EarlyStopping(patience = 2)])"
   ]
  },
  {
   "cell_type": "code",
   "execution_count": 46,
   "metadata": {},
   "outputs": [
    {
     "data": {
      "text/plain": [
       "0.3678139143519931"
      ]
     },
     "execution_count": 46,
     "metadata": {},
     "output_type": "execute_result"
    }
   ],
   "source": [
    "# Evaluate the model on the test set\n",
    "\n",
    "regularized_model.evaluate(test_data, test_targets, verbose = False)"
   ]
  },
  {
   "cell_type": "markdown",
   "metadata": {},
   "source": [
    "#### Plot the learning curves"
   ]
  },
  {
   "cell_type": "code",
   "execution_count": 47,
   "metadata": {},
   "outputs": [
    {
     "data": {
      "image/png": "[encoded data removed]",
      "text/plain": [
       "<Figure size 864x360 with 2 Axes>"
      ]
     },
     "metadata": {
      "needs_background": "light"
     },
     "output_type": "display_data"
    }
   ],
   "source": [
    "# Plot the training and validation loss\n",
    "\n",
    "import matplotlib.pyplot as plt\n",
    "\n",
    "fig = plt.figure(figsize=(12, 5))\n",
    "\n",
    "fig.add_subplot(121)\n",
    "\n",
    "plt.plot(unreg_history.history['loss'])\n",
    "plt.plot(unreg_history.history['val_loss'])\n",
    "plt.title('Unregularised model: loss vs. epochs')\n",
    "plt.ylabel('Loss')\n",
    "plt.xlabel('Epoch')\n",
    "plt.legend(['Training', 'Validation'], loc='upper right')\n",
    "\n",
    "fig.add_subplot(122)\n",
    "\n",
    "plt.plot(reg_history.history['loss'])\n",
    "plt.plot(reg_history.history['val_loss'])\n",
    "plt.title('Regularised model: loss vs. epochs')\n",
    "plt.ylabel('Loss')\n",
    "plt.xlabel('Epoch')\n",
    "plt.legend(['Training', 'Validation'], loc='upper right')\n",
    "\n",
    "plt.show()"
   ]
  },
  {
   "cell_type": "code",
   "execution_count": null,
   "metadata": {},
   "outputs": [],
   "source": []
  }
 ],
 "metadata": {
  "kernelspec": {
   "display_name": "Python 3",
   "language": "python",
   "name": "python3"
  },
  "language_info": {
   "codemirror_mode": {
    "name": "ipython",
    "version": 3
   },
   "file_extension": ".py",
   "mimetype": "text/x-python",
   "name": "python",
   "nbconvert_exporter": "python",
   "pygments_lexer": "ipython3",
   "version": "3.7.1"
  }
 },
 "nbformat": 4,
 "nbformat_minor": 2
}
